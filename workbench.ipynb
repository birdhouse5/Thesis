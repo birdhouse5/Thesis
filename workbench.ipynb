{
 "cells": [
  {
   "cell_type": "code",
   "execution_count": 1,
   "id": "d1a02ec5",
   "metadata": {},
   "outputs": [],
   "source": [
    "import pandas as pd"
   ]
  },
  {
   "cell_type": "code",
   "execution_count": 4,
   "id": "baa63a71",
   "metadata": {},
   "outputs": [],
   "source": [
    "df = pd.read_csv(\"results/optuna_phase3_results/varibad_phase3_1755581439_all_trials.csv\")"
   ]
  },
  {
   "cell_type": "code",
   "execution_count": 5,
   "id": "2e53e588",
   "metadata": {},
   "outputs": [
    {
     "data": {
      "text/html": [
       "<div>\n",
       "<style scoped>\n",
       "    .dataframe tbody tr th:only-of-type {\n",
       "        vertical-align: middle;\n",
       "    }\n",
       "\n",
       "    .dataframe tbody tr th {\n",
       "        vertical-align: top;\n",
       "    }\n",
       "\n",
       "    .dataframe thead th {\n",
       "        text-align: right;\n",
       "    }\n",
       "</style>\n",
       "<table border=\"1\" class=\"dataframe\">\n",
       "  <thead>\n",
       "    <tr style=\"text-align: right;\">\n",
       "      <th></th>\n",
       "      <th>trial_number</th>\n",
       "      <th>state</th>\n",
       "      <th>value</th>\n",
       "      <th>datetime_start</th>\n",
       "      <th>datetime_complete</th>\n",
       "      <th>duration</th>\n",
       "      <th>param_seq_len</th>\n",
       "      <th>param_max_episodes</th>\n",
       "      <th>param_early_stopping_patience</th>\n",
       "      <th>param_early_stopping_min_delta</th>\n",
       "      <th>param_val_interval</th>\n",
       "    </tr>\n",
       "  </thead>\n",
       "  <tbody>\n",
       "    <tr>\n",
       "      <th>0</th>\n",
       "      <td>0</td>\n",
       "      <td>COMPLETE</td>\n",
       "      <td>37.615324</td>\n",
       "      <td>2025-08-19 05:30:39.063942</td>\n",
       "      <td>2025-08-19 08:19:27.756218</td>\n",
       "      <td>10128.692276</td>\n",
       "      <td>200</td>\n",
       "      <td>2000</td>\n",
       "      <td>5</td>\n",
       "      <td>0.001</td>\n",
       "      <td>500</td>\n",
       "    </tr>\n",
       "    <tr>\n",
       "      <th>1</th>\n",
       "      <td>1</td>\n",
       "      <td>COMPLETE</td>\n",
       "      <td>19.659685</td>\n",
       "      <td>2025-08-19 05:30:39.066474</td>\n",
       "      <td>2025-08-19 07:43:49.869841</td>\n",
       "      <td>7990.803367</td>\n",
       "      <td>150</td>\n",
       "      <td>2000</td>\n",
       "      <td>5</td>\n",
       "      <td>0.001</td>\n",
       "      <td>200</td>\n",
       "    </tr>\n",
       "    <tr>\n",
       "      <th>2</th>\n",
       "      <td>2</td>\n",
       "      <td>COMPLETE</td>\n",
       "      <td>14.199942</td>\n",
       "      <td>2025-08-19 05:30:39.068159</td>\n",
       "      <td>2025-08-19 08:03:33.295458</td>\n",
       "      <td>9174.227299</td>\n",
       "      <td>150</td>\n",
       "      <td>4000</td>\n",
       "      <td>3</td>\n",
       "      <td>0.050</td>\n",
       "      <td>300</td>\n",
       "    </tr>\n",
       "    <tr>\n",
       "      <th>3</th>\n",
       "      <td>3</td>\n",
       "      <td>COMPLETE</td>\n",
       "      <td>24.879325</td>\n",
       "      <td>2025-08-19 05:30:39.069315</td>\n",
       "      <td>2025-08-19 10:24:54.258726</td>\n",
       "      <td>17655.189411</td>\n",
       "      <td>200</td>\n",
       "      <td>8000</td>\n",
       "      <td>5</td>\n",
       "      <td>0.050</td>\n",
       "      <td>200</td>\n",
       "    </tr>\n",
       "    <tr>\n",
       "      <th>4</th>\n",
       "      <td>4</td>\n",
       "      <td>COMPLETE</td>\n",
       "      <td>18.769718</td>\n",
       "      <td>2025-08-19 05:30:39.070900</td>\n",
       "      <td>2025-08-19 09:19:41.009125</td>\n",
       "      <td>13741.938225</td>\n",
       "      <td>120</td>\n",
       "      <td>6000</td>\n",
       "      <td>8</td>\n",
       "      <td>0.010</td>\n",
       "      <td>200</td>\n",
       "    </tr>\n",
       "  </tbody>\n",
       "</table>\n",
       "</div>"
      ],
      "text/plain": [
       "   trial_number     state      value              datetime_start  \\\n",
       "0             0  COMPLETE  37.615324  2025-08-19 05:30:39.063942   \n",
       "1             1  COMPLETE  19.659685  2025-08-19 05:30:39.066474   \n",
       "2             2  COMPLETE  14.199942  2025-08-19 05:30:39.068159   \n",
       "3             3  COMPLETE  24.879325  2025-08-19 05:30:39.069315   \n",
       "4             4  COMPLETE  18.769718  2025-08-19 05:30:39.070900   \n",
       "\n",
       "            datetime_complete      duration  param_seq_len  \\\n",
       "0  2025-08-19 08:19:27.756218  10128.692276            200   \n",
       "1  2025-08-19 07:43:49.869841   7990.803367            150   \n",
       "2  2025-08-19 08:03:33.295458   9174.227299            150   \n",
       "3  2025-08-19 10:24:54.258726  17655.189411            200   \n",
       "4  2025-08-19 09:19:41.009125  13741.938225            120   \n",
       "\n",
       "   param_max_episodes  param_early_stopping_patience  \\\n",
       "0                2000                              5   \n",
       "1                2000                              5   \n",
       "2                4000                              3   \n",
       "3                8000                              5   \n",
       "4                6000                              8   \n",
       "\n",
       "   param_early_stopping_min_delta  param_val_interval  \n",
       "0                           0.001                 500  \n",
       "1                           0.001                 200  \n",
       "2                           0.050                 300  \n",
       "3                           0.050                 200  \n",
       "4                           0.010                 200  "
      ]
     },
     "execution_count": 5,
     "metadata": {},
     "output_type": "execute_result"
    }
   ],
   "source": [
    "df.head()"
   ]
  },
  {
   "cell_type": "code",
   "execution_count": 6,
   "id": "8149d289",
   "metadata": {},
   "outputs": [],
   "source": [
    "df = df[\"value\"].sort_values(ascending=False)"
   ]
  },
  {
   "cell_type": "code",
   "execution_count": 8,
   "id": "9ad4ca76",
   "metadata": {},
   "outputs": [
    {
     "data": {
      "text/plain": [
       "69    790.005747\n",
       "9     100.726063\n",
       "26     85.337497\n",
       "54     76.858385\n",
       "5      71.065265\n",
       "38     60.168301\n",
       "25     56.214108\n",
       "27     47.188920\n",
       "48     45.157013\n",
       "56     44.777676\n",
       "Name: value, dtype: float64"
      ]
     },
     "execution_count": 8,
     "metadata": {},
     "output_type": "execute_result"
    }
   ],
   "source": [
    "df.head(10)"
   ]
  },
  {
   "cell_type": "code",
   "execution_count": null,
   "id": "627b869c",
   "metadata": {},
   "outputs": [],
   "source": []
  }
 ],
 "metadata": {
  "kernelspec": {
   "display_name": "venv",
   "language": "python",
   "name": "python3"
  },
  "language_info": {
   "codemirror_mode": {
    "name": "ipython",
    "version": 3
   },
   "file_extension": ".py",
   "mimetype": "text/x-python",
   "name": "python",
   "nbconvert_exporter": "python",
   "pygments_lexer": "ipython3",
   "version": "3.10.4"
  }
 },
 "nbformat": 4,
 "nbformat_minor": 5
}
